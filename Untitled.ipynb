{
 "cells": [
  {
   "cell_type": "code",
   "execution_count": 1,
   "id": "9e3f4f34",
   "metadata": {},
   "outputs": [
    {
     "ename": "ImportError",
     "evalue": "cannot import name 'Self' from 'typing_extensions' (c:\\users\\admin\\appdata\\local\\programs\\python\\python38\\lib\\site-packages\\typing_extensions.py)",
     "output_type": "error",
     "traceback": [
      "\u001b[1;31m---------------------------------------------------------------------------\u001b[0m",
      "\u001b[1;31mImportError\u001b[0m                               Traceback (most recent call last)",
      "\u001b[1;32m<ipython-input-1-c10622a03934>\u001b[0m in \u001b[0;36m<module>\u001b[1;34m\u001b[0m\n\u001b[1;32m----> 1\u001b[1;33m \u001b[1;32mfrom\u001b[0m \u001b[0mmodels\u001b[0m\u001b[1;33m.\u001b[0m\u001b[0mtacotron2\u001b[0m \u001b[1;32mimport\u001b[0m \u001b[0mTacotron2\u001b[0m\u001b[1;33m\u001b[0m\u001b[1;33m\u001b[0m\u001b[0m\n\u001b[0m\u001b[0;32m      2\u001b[0m \u001b[1;33m\u001b[0m\u001b[0m\n\u001b[0;32m      3\u001b[0m \u001b[1;33m\u001b[0m\u001b[0m\n\u001b[0;32m      4\u001b[0m \u001b[0mmodel\u001b[0m \u001b[1;33m=\u001b[0m \u001b[0mTacotron2\u001b[0m\u001b[1;33m(\u001b[0m\u001b[1;34m'pretrained/tacotron2_ar_adv.pth'\u001b[0m\u001b[1;33m)\u001b[0m\u001b[1;33m\u001b[0m\u001b[1;33m\u001b[0m\u001b[0m\n\u001b[0;32m      5\u001b[0m \u001b[1;33m\u001b[0m\u001b[0m\n",
      "\u001b[1;32m~\\Desktop\\tts\\tts-arabic-pytorch-master\\models\\tacotron2\\__init__.py\u001b[0m in \u001b[0;36m<module>\u001b[1;34m\u001b[0m\n\u001b[1;32m----> 1\u001b[1;33m \u001b[1;32mfrom\u001b[0m \u001b[1;33m.\u001b[0m\u001b[0mnetworks\u001b[0m \u001b[1;32mimport\u001b[0m \u001b[0mTacotron2\u001b[0m\u001b[1;33m,\u001b[0m \u001b[0mTacotron2Wave\u001b[0m\u001b[1;33m\u001b[0m\u001b[1;33m\u001b[0m\u001b[0m\n\u001b[0m",
      "\u001b[1;32m~\\Desktop\\tts\\tts-arabic-pytorch-master\\models\\tacotron2\\networks.py\u001b[0m in \u001b[0;36m<module>\u001b[1;34m\u001b[0m\n\u001b[0;32m      2\u001b[0m \u001b[1;33m\u001b[0m\u001b[0m\n\u001b[0;32m      3\u001b[0m \u001b[1;32mimport\u001b[0m \u001b[0mtext\u001b[0m\u001b[1;33m\u001b[0m\u001b[1;33m\u001b[0m\u001b[0m\n\u001b[1;32m----> 4\u001b[1;33m \u001b[1;32mimport\u001b[0m \u001b[0mtorch\u001b[0m\u001b[1;33m\u001b[0m\u001b[1;33m\u001b[0m\u001b[0m\n\u001b[0m\u001b[0;32m      5\u001b[0m \u001b[1;32mimport\u001b[0m \u001b[0mtorch\u001b[0m\u001b[1;33m.\u001b[0m\u001b[0mnn\u001b[0m \u001b[1;32mas\u001b[0m \u001b[0mnn\u001b[0m\u001b[1;33m\u001b[0m\u001b[1;33m\u001b[0m\u001b[0m\n\u001b[0;32m      6\u001b[0m \u001b[1;32mfrom\u001b[0m \u001b[1;33m.\u001b[0m\u001b[0mtacotron2_ms\u001b[0m \u001b[1;32mimport\u001b[0m \u001b[0mTacotron2MS\u001b[0m\u001b[1;33m\u001b[0m\u001b[1;33m\u001b[0m\u001b[0m\n",
      "\u001b[1;32mc:\\users\\admin\\appdata\\local\\programs\\python\\python38\\lib\\site-packages\\torch\\__init__.py\u001b[0m in \u001b[0;36m<module>\u001b[1;34m\u001b[0m\n\u001b[0;32m   1475\u001b[0m \u001b[1;33m\u001b[0m\u001b[0m\n\u001b[0;32m   1476\u001b[0m \u001b[1;31m# needs to be after the above ATen bindings so we can overwrite from Python side\u001b[0m\u001b[1;33m\u001b[0m\u001b[1;33m\u001b[0m\u001b[1;33m\u001b[0m\u001b[0m\n\u001b[1;32m-> 1477\u001b[1;33m \u001b[1;32mfrom\u001b[0m \u001b[1;33m.\u001b[0m\u001b[0mfunctional\u001b[0m \u001b[1;32mimport\u001b[0m \u001b[1;33m*\u001b[0m  \u001b[1;31m# noqa: F403\u001b[0m\u001b[1;33m\u001b[0m\u001b[1;33m\u001b[0m\u001b[0m\n\u001b[0m\u001b[0;32m   1478\u001b[0m \u001b[1;33m\u001b[0m\u001b[0m\n\u001b[0;32m   1479\u001b[0m \u001b[1;33m\u001b[0m\u001b[0m\n",
      "\u001b[1;32mc:\\users\\admin\\appdata\\local\\programs\\python\\python38\\lib\\site-packages\\torch\\functional.py\u001b[0m in \u001b[0;36m<module>\u001b[1;34m\u001b[0m\n\u001b[0;32m      7\u001b[0m \u001b[1;32mimport\u001b[0m \u001b[0mtorch\u001b[0m\u001b[1;33m\u001b[0m\u001b[1;33m\u001b[0m\u001b[0m\n\u001b[0;32m      8\u001b[0m \u001b[1;32mfrom\u001b[0m \u001b[0mtorch\u001b[0m\u001b[1;33m.\u001b[0m\u001b[0m_C\u001b[0m \u001b[1;32mimport\u001b[0m \u001b[0m_add_docstr\u001b[0m\u001b[1;33m\u001b[0m\u001b[1;33m\u001b[0m\u001b[0m\n\u001b[1;32m----> 9\u001b[1;33m \u001b[1;32mimport\u001b[0m \u001b[0mtorch\u001b[0m\u001b[1;33m.\u001b[0m\u001b[0mnn\u001b[0m\u001b[1;33m.\u001b[0m\u001b[0mfunctional\u001b[0m \u001b[1;32mas\u001b[0m \u001b[0mF\u001b[0m\u001b[1;33m\u001b[0m\u001b[1;33m\u001b[0m\u001b[0m\n\u001b[0m\u001b[0;32m     10\u001b[0m \u001b[1;32mfrom\u001b[0m \u001b[1;33m.\u001b[0m\u001b[0m_lowrank\u001b[0m \u001b[1;32mimport\u001b[0m \u001b[0msvd_lowrank\u001b[0m\u001b[1;33m,\u001b[0m \u001b[0mpca_lowrank\u001b[0m\u001b[1;33m\u001b[0m\u001b[1;33m\u001b[0m\u001b[0m\n\u001b[0;32m     11\u001b[0m from .overrides import (\n",
      "\u001b[1;32mc:\\users\\admin\\appdata\\local\\programs\\python\\python38\\lib\\site-packages\\torch\\nn\\__init__.py\u001b[0m in \u001b[0;36m<module>\u001b[1;34m\u001b[0m\n\u001b[1;32m----> 1\u001b[1;33m \u001b[1;32mfrom\u001b[0m \u001b[1;33m.\u001b[0m\u001b[0mmodules\u001b[0m \u001b[1;32mimport\u001b[0m \u001b[1;33m*\u001b[0m  \u001b[1;31m# noqa: F403\u001b[0m\u001b[1;33m\u001b[0m\u001b[1;33m\u001b[0m\u001b[0m\n\u001b[0m\u001b[0;32m      2\u001b[0m from .parameter import (\n\u001b[0;32m      3\u001b[0m     \u001b[0mParameter\u001b[0m \u001b[1;32mas\u001b[0m \u001b[0mParameter\u001b[0m\u001b[1;33m,\u001b[0m\u001b[1;33m\u001b[0m\u001b[1;33m\u001b[0m\u001b[0m\n\u001b[0;32m      4\u001b[0m     \u001b[0mUninitializedParameter\u001b[0m \u001b[1;32mas\u001b[0m \u001b[0mUninitializedParameter\u001b[0m\u001b[1;33m,\u001b[0m\u001b[1;33m\u001b[0m\u001b[1;33m\u001b[0m\u001b[0m\n\u001b[0;32m      5\u001b[0m     \u001b[0mUninitializedBuffer\u001b[0m \u001b[1;32mas\u001b[0m \u001b[0mUninitializedBuffer\u001b[0m\u001b[1;33m,\u001b[0m\u001b[1;33m\u001b[0m\u001b[1;33m\u001b[0m\u001b[0m\n",
      "\u001b[1;32mc:\\users\\admin\\appdata\\local\\programs\\python\\python38\\lib\\site-packages\\torch\\nn\\modules\\__init__.py\u001b[0m in \u001b[0;36m<module>\u001b[1;34m\u001b[0m\n\u001b[1;32m----> 1\u001b[1;33m \u001b[1;32mfrom\u001b[0m \u001b[1;33m.\u001b[0m\u001b[0mmodule\u001b[0m \u001b[1;32mimport\u001b[0m \u001b[0mModule\u001b[0m\u001b[1;33m\u001b[0m\u001b[1;33m\u001b[0m\u001b[0m\n\u001b[0m\u001b[0;32m      2\u001b[0m \u001b[1;32mfrom\u001b[0m \u001b[1;33m.\u001b[0m\u001b[0mlinear\u001b[0m \u001b[1;32mimport\u001b[0m \u001b[0mIdentity\u001b[0m\u001b[1;33m,\u001b[0m \u001b[0mLinear\u001b[0m\u001b[1;33m,\u001b[0m \u001b[0mBilinear\u001b[0m\u001b[1;33m,\u001b[0m \u001b[0mLazyLinear\u001b[0m\u001b[1;33m\u001b[0m\u001b[1;33m\u001b[0m\u001b[0m\n\u001b[0;32m      3\u001b[0m \u001b[1;32mfrom\u001b[0m \u001b[1;33m.\u001b[0m\u001b[0mconv\u001b[0m \u001b[1;32mimport\u001b[0m \u001b[0mConv1d\u001b[0m\u001b[1;33m,\u001b[0m \u001b[0mConv2d\u001b[0m\u001b[1;33m,\u001b[0m \u001b[0mConv3d\u001b[0m\u001b[1;33m,\u001b[0m\u001b[0;31m \u001b[0m\u001b[0;31m\\\u001b[0m\u001b[1;33m\u001b[0m\u001b[1;33m\u001b[0m\u001b[0m\n\u001b[0;32m      4\u001b[0m     \u001b[0mConvTranspose1d\u001b[0m\u001b[1;33m,\u001b[0m \u001b[0mConvTranspose2d\u001b[0m\u001b[1;33m,\u001b[0m \u001b[0mConvTranspose3d\u001b[0m\u001b[1;33m,\u001b[0m\u001b[0;31m \u001b[0m\u001b[0;31m\\\u001b[0m\u001b[1;33m\u001b[0m\u001b[1;33m\u001b[0m\u001b[0m\n\u001b[0;32m      5\u001b[0m     \u001b[0mLazyConv1d\u001b[0m\u001b[1;33m,\u001b[0m \u001b[0mLazyConv2d\u001b[0m\u001b[1;33m,\u001b[0m \u001b[0mLazyConv3d\u001b[0m\u001b[1;33m,\u001b[0m \u001b[0mLazyConvTranspose1d\u001b[0m\u001b[1;33m,\u001b[0m \u001b[0mLazyConvTranspose2d\u001b[0m\u001b[1;33m,\u001b[0m \u001b[0mLazyConvTranspose3d\u001b[0m\u001b[1;33m\u001b[0m\u001b[1;33m\u001b[0m\u001b[0m\n",
      "\u001b[1;32mc:\\users\\admin\\appdata\\local\\programs\\python\\python38\\lib\\site-packages\\torch\\nn\\modules\\module.py\u001b[0m in \u001b[0;36m<module>\u001b[1;34m\u001b[0m\n\u001b[0;32m     12\u001b[0m \u001b[1;32mfrom\u001b[0m \u001b[0mtorch\u001b[0m \u001b[1;32mimport\u001b[0m \u001b[0mTensor\u001b[0m\u001b[1;33m,\u001b[0m \u001b[0mdevice\u001b[0m\u001b[1;33m,\u001b[0m \u001b[0mdtype\u001b[0m\u001b[1;33m\u001b[0m\u001b[1;33m\u001b[0m\u001b[0m\n\u001b[0;32m     13\u001b[0m \u001b[1;32mfrom\u001b[0m \u001b[0mtyping\u001b[0m \u001b[1;32mimport\u001b[0m \u001b[0mUnion\u001b[0m\u001b[1;33m,\u001b[0m \u001b[0mTuple\u001b[0m\u001b[1;33m,\u001b[0m \u001b[0mAny\u001b[0m\u001b[1;33m,\u001b[0m \u001b[0mCallable\u001b[0m\u001b[1;33m,\u001b[0m \u001b[0mIterator\u001b[0m\u001b[1;33m,\u001b[0m \u001b[0mSet\u001b[0m\u001b[1;33m,\u001b[0m \u001b[0mOptional\u001b[0m\u001b[1;33m,\u001b[0m \u001b[0moverload\u001b[0m\u001b[1;33m,\u001b[0m \u001b[0mTypeVar\u001b[0m\u001b[1;33m,\u001b[0m \u001b[0mMapping\u001b[0m\u001b[1;33m,\u001b[0m \u001b[0mDict\u001b[0m\u001b[1;33m,\u001b[0m \u001b[0mList\u001b[0m\u001b[1;33m\u001b[0m\u001b[1;33m\u001b[0m\u001b[0m\n\u001b[1;32m---> 14\u001b[1;33m \u001b[1;32mfrom\u001b[0m \u001b[0mtyping_extensions\u001b[0m \u001b[1;32mimport\u001b[0m \u001b[0mSelf\u001b[0m\u001b[1;33m\u001b[0m\u001b[1;33m\u001b[0m\u001b[0m\n\u001b[0m\u001b[0;32m     15\u001b[0m \u001b[1;32mfrom\u001b[0m \u001b[1;33m...\u001b[0m\u001b[0mutils\u001b[0m\u001b[1;33m.\u001b[0m\u001b[0mhooks\u001b[0m \u001b[1;32mimport\u001b[0m \u001b[0mRemovableHandle\u001b[0m\u001b[1;33m\u001b[0m\u001b[1;33m\u001b[0m\u001b[0m\n\u001b[0;32m     16\u001b[0m \u001b[1;33m\u001b[0m\u001b[0m\n",
      "\u001b[1;31mImportError\u001b[0m: cannot import name 'Self' from 'typing_extensions' (c:\\users\\admin\\appdata\\local\\programs\\python\\python38\\lib\\site-packages\\typing_extensions.py)"
     ]
    }
   ],
   "source": [
    "from models.tacotron2 import Tacotron2\n",
    "\n",
    "\n",
    "model = Tacotron2('pretrained/tacotron2_ar_adv.pth')\n",
    "\n",
    "\n",
    "mel_spec = model.ttmel(\"اَلسَّلامُ عَلَيكُم يَا صَدِيقِي\")\n"
   ]
  },
  {
   "cell_type": "code",
   "execution_count": 3,
   "id": "af1482a8",
   "metadata": {},
   "outputs": [],
   "source": [
    "from models.fastpitch import FastPitch\n",
    "model = FastPitch('pretrained/fastpitch_ar_adv.pth')\n",
    "#model = model.cuda()\n",
    "mel_spec = model.ttmel(\"اَلسَّلامُ عَلَيكُم يَا صَدِيقِي\")"
   ]
  },
  {
   "cell_type": "code",
   "execution_count": 4,
   "id": "2e057c33",
   "metadata": {},
   "outputs": [],
   "source": [
    "from models.tacotron2 import Tacotron2Wave\n",
    "model = Tacotron2Wave('pretrained/tacotron2_ar_adv.pth')\n",
    "#model = model.cuda()\n",
    "wave = model.tts(\"اَلسَّلامُ عَلَيكُم يَا صَدِيقِي\")\n",
    "\n",
    "wave_list = model.tts([\"صِفر\" ,\"واحِد\" ,\"إِثنان\", \"ثَلاثَة\" ,\"أَربَعَة\" ,\"خَمسَة\", \"سِتَّة\" ,\"سَبعَة\" ,\"ثَمانِيَة\", \"تِسعَة\" ,\"عَشَرَة\"])"
   ]
  },
  {
   "cell_type": "code",
   "execution_count": 5,
   "id": "eafd4c3f",
   "metadata": {},
   "outputs": [],
   "source": [
    "from models.fastpitch import FastPitch2Wave\n",
    "model = FastPitch2Wave('pretrained/fastpitch_ar_adv.pth')\n",
    "#model = model.cuda()\n",
    "wave = model.tts(\"اَلسَّلامُ عَلَيكُم يَا صَدِيقِي\")\n",
    "\n",
    "wave_list = model.tts([\"صِفر\" ,\"واحِد\" ,\"إِثنان\", \"ثَلاثَة\" ,\"أَربَعَة\" ,\"خَمسَة\", \"سِتَّة\" ,\"سَبعَة\" ,\"ثَمانِيَة\", \"تِسعَة\" ,\"عَشَرَة\"])"
   ]
  },
  {
   "cell_type": "code",
   "execution_count": 6,
   "id": "7f32a63f",
   "metadata": {},
   "outputs": [],
   "source": [
    "wave = model.tts(\">als~alAmu Ealaykum yA Sadiyqiy\")\n",
    "wave_list = model.tts([\"Sifr\", \"wAHid\", \"<i^nAn\", \"^alA^ap\", \">arbaEap\", \"xamsap\", \"sit~ap\", \"sabEap\", \"^amAniyap\", \"tisEap\", \"Ea$arap\"])"
   ]
  },
  {
   "cell_type": "code",
   "execution_count": 7,
   "id": "b0a1bf6f",
   "metadata": {},
   "outputs": [],
   "source": [
    "text_unvoc = \"اللغة العربية هي أكثر اللغات السامية تحدثا، وإحدى أكثر اللغات انتشارا في العالم\"\n",
    "wave_shakkala = model.tts(text_unvoc, vowelizer='shakkala')\n",
    "wave_shakkelha = model.tts(text_unvoc, vowelizer='shakkelha')"
   ]
  },
  {
   "cell_type": "code",
   "execution_count": 9,
   "id": "d106f459",
   "metadata": {},
   "outputs": [
    {
     "name": "stdout",
     "output_type": "stream",
     "text": [
      "\n",
      "[                              ] 2.0%\n",
      "[=                             ] 4.0%\n",
      "[=                             ] 6.0%\n",
      "[==                            ] 8.0%\n",
      "[===                           ] 10.0%\n",
      "[===                           ] 12.0%\n",
      "[====                          ] 14.0%\n",
      "[====                          ] 16.0%\n",
      "[=====                         ] 18.0%\n",
      "[======                        ] 20.0%\n",
      "[======                        ] 22.0%\n",
      "[=======                       ] 24.0%\n",
      "[=======                       ] 26.0%\n",
      "[========                      ] 28.0%\n",
      "[=========                     ] 30.0%\n",
      "[=========                     ] 32.0%\n",
      "[==========                    ] 34.0%\n",
      "[==========                    ] 36.0%\n",
      "[===========                   ] 38.0%\n",
      "[============                  ] 40.0%\n",
      "[============                  ] 42.0%\n",
      "[=============                 ] 44.0%\n",
      "[=============                 ] 46.0%\n",
      "[==============                ] 48.0%\n",
      "[===============               ] 50.0%\n",
      "[===============               ] 52.0%\n",
      "[================              ] 54.0%\n",
      "[================              ] 56.0%\n",
      "[=================             ] 58.0%\n",
      "[==================            ] 60.0%\n",
      "[==================            ] 62.0%\n",
      "[===================           ] 64.0%\n",
      "[===================           ] 66.0%\n",
      "[====================          ] 68.0%\n",
      "[=====================         ] 70.0%\n",
      "[=====================         ] 72.0%\n",
      "[======================        ] 74.0%\n",
      "[======================        ] 76.0%\n",
      "[=======================       ] 78.0%\n",
      "[========================      ] 80.0%\n",
      "[========================      ] 82.0%\n",
      "[=========================     ] 84.0%\n",
      "[=========================     ] 86.0%\n",
      "[==========================    ] 88.0%\n",
      "[===========================   ] 90.0%\n",
      "[===========================   ] 92.0%\n",
      "[============================  ] 94.0%\n",
      "[============================  ] 96.0%\n",
      "[============================= ] 98.0%\n",
      "[==============================] 100.0%\n",
      "Saved files to: samples/results\n",
      "\n",
      "[                              ] 2.0%\n",
      "[=                             ] 4.0%\n",
      "[=                             ] 6.0%\n",
      "[==                            ] 8.0%\n",
      "[===                           ] 10.0%\n",
      "[===                           ] 12.0%\n",
      "[====                          ] 14.0%\n",
      "[====                          ] 16.0%\n",
      "[=====                         ] 18.0%\n",
      "[======                        ] 20.0%\n",
      "[======                        ] 22.0%\n",
      "[=======                       ] 24.0%\n",
      "[=======                       ] 26.0%\n",
      "[========                      ] 28.0%\n",
      "[=========                     ] 30.0%\n",
      "[=========                     ] 32.0%\n",
      "[==========                    ] 34.0%\n",
      "[==========                    ] 36.0%\n",
      "[===========                   ] 38.0%\n",
      "[============                  ] 40.0%\n",
      "[============                  ] 42.0%\n",
      "[=============                 ] 44.0%\n",
      "[=============                 ] 46.0%\n",
      "[==============                ] 48.0%\n",
      "[===============               ] 50.0%\n",
      "[===============               ] 52.0%\n",
      "[================              ] 54.0%\n",
      "[================              ] 56.0%\n",
      "[=================             ] 58.0%\n",
      "[==================            ] 60.0%\n",
      "[==================            ] 62.0%\n",
      "[===================           ] 64.0%\n",
      "[===================           ] 66.0%\n",
      "[====================          ] 68.0%\n",
      "[=====================         ] 70.0%\n",
      "[=====================         ] 72.0%\n",
      "[======================        ] 74.0%\n",
      "[======================        ] 76.0%\n",
      "[=======================       ] 78.0%\n",
      "[========================      ] 80.0%\n",
      "[========================      ] 82.0%\n",
      "[=========================     ] 84.0%\n",
      "[=========================     ] 86.0%\n",
      "[==========================    ] 88.0%\n",
      "[===========================   ] 90.0%\n",
      "[===========================   ] 92.0%\n",
      "[============================  ] 94.0%\n",
      "[============================  ] 96.0%\n",
      "[============================= ] 98.0%\n",
      "[==============================] 100.0%\n",
      "Saved files to: samples/results\n"
     ]
    }
   ],
   "source": [
    "# Run inference.py with default parameters\n",
    "!python inference.py\n",
    "\n",
    "# Run inference.py with custom parameters\n",
    "!python inference.py --list data/infer_text.txt --out_dir samples/results --model fastpitch --checkpoint pretrained/fastpitch_ar_adv.pth --batch_size 2 --denoise 0\n"
   ]
  },
  {
   "cell_type": "code",
   "execution_count": null,
   "id": "6889b41e",
   "metadata": {},
   "outputs": [],
   "source": []
  }
 ],
 "metadata": {
  "kernelspec": {
   "display_name": "Python 3",
   "language": "python",
   "name": "python3"
  },
  "language_info": {
   "codemirror_mode": {
    "name": "ipython",
    "version": 3
   },
   "file_extension": ".py",
   "mimetype": "text/x-python",
   "name": "python",
   "nbconvert_exporter": "python",
   "pygments_lexer": "ipython3",
   "version": "3.8.6"
  }
 },
 "nbformat": 4,
 "nbformat_minor": 5
}
